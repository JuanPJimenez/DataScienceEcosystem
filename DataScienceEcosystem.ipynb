{
 "cells": [
  {
   "cell_type": "markdown",
   "id": "5c9315ea-f2bd-4939-98f7-84d954be6aa4",
   "metadata": {},
   "source": [
    "# Data Science Tools and Ecosystem"
   ]
  },
  {
   "cell_type": "markdown",
   "id": "1d590aae-b620-4901-b166-bf2af2a8d889",
   "metadata": {},
   "source": [
    "Some of the popular languages that Data Scientists use are:\n",
    "- Python,\n",
    "- C++,\n",
    "- Java."
   ]
  },
  {
   "cell_type": "markdown",
   "id": "723e983d-6828-401b-baee-77095b1acf1f",
   "metadata": {},
   "source": [
    "## Objectives:\r\n",
    "- List popular languages for Data Science.\r\n",
    "- Introduce common libraries used in Data Science.\r\n",
    "- Demonstrate basic arithmetic operations in Python."
   ]
  },
  {
   "cell_type": "markdown",
   "id": "696a4660-8846-4608-a06f-c7cd6410d882",
   "metadata": {},
   "source": [
    "In this notebook, Data Science Tools and Ecosystem are summarized."
   ]
  },
  {
   "cell_type": "markdown",
   "id": "0a85af36-cb9c-43f4-b0eb-f8ad10dab800",
   "metadata": {},
   "source": [
    "Some of the commonly used libraries used by Data Scientists include:\n",
    "- Numpy \n",
    "- Pandas\n",
    "- Matplotlib. "
   ]
  },
  {
   "cell_type": "markdown",
   "id": "973a6693-5f52-4635-a9cf-4ad3458b6f73",
   "metadata": {},
   "source": [
    "| Data Science Tools   |\r\n",
    "|----------------------|\r\n",
    "| Jupyter Notebook     |\r\n",
    "| RStudio              |\r\n",
    "| VSCode               |"
   ]
  },
  {
   "cell_type": "markdown",
   "id": "65d306da-b811-4da6-825a-68decd4775c7",
   "metadata": {},
   "source": [
    "### Below are a few examples of evaluating arithmetic expressions in Python."
   ]
  },
  {
   "cell_type": "code",
   "execution_count": 8,
   "id": "cc34dc29-0975-4fbb-9c3f-011f236a4fc4",
   "metadata": {},
   "outputs": [
    {
     "data": {
      "text/plain": [
       "17"
      ]
     },
     "execution_count": 8,
     "metadata": {},
     "output_type": "execute_result"
    }
   ],
   "source": [
    "# This is a simple arithmetic expression to multiply then add integershe results.\n",
    "result= (3*4)+5;\n",
    "result"
   ]
  },
  {
   "cell_type": "code",
   "execution_count": 9,
   "id": "28aa6541-7ceb-429c-ac62-9b825ec7eb3a",
   "metadata": {},
   "outputs": [
    {
     "data": {
      "text/plain": [
       "3.3333333333333335"
      ]
     },
     "execution_count": 9,
     "metadata": {},
     "output_type": "execute_result"
    }
   ],
   "source": [
    " #This will convert 200 minutes to hours by diving by 60\n",
    "Minutes=200;\n",
    "Hours=Minutes/60;\n",
    "Hours"
   ]
  },
  {
   "cell_type": "markdown",
   "id": "ad01d4b5-a51c-48bc-bec8-074eed946dc5",
   "metadata": {},
   "source": [
    "## Author\n",
    "Juan Pérez Jiménez"
   ]
  },
  {
   "cell_type": "code",
   "execution_count": null,
   "id": "db251a7e-a427-4a83-85e3-cc2cb73cdf70",
   "metadata": {},
   "outputs": [],
   "source": []
  }
 ],
 "metadata": {
  "kernelspec": {
   "display_name": "Python 3 (ipykernel)",
   "language": "python",
   "name": "python3"
  },
  "language_info": {
   "codemirror_mode": {
    "name": "ipython",
    "version": 3
   },
   "file_extension": ".py",
   "mimetype": "text/x-python",
   "name": "python",
   "nbconvert_exporter": "python",
   "pygments_lexer": "ipython3",
   "version": "3.11.7"
  }
 },
 "nbformat": 4,
 "nbformat_minor": 5
}
